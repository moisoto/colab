{
  "nbformat": 4,
  "nbformat_minor": 0,
  "metadata": {
    "colab": {
      "name": "N-Base_Real_Numbers.ipynb",
      "provenance": [],
      "authorship_tag": "ABX9TyOA4jj0W+wFd+mViYxoJQ53",
      "include_colab_link": true
    },
    "kernelspec": {
      "name": "python3",
      "display_name": "Python 3"
    },
    "language_info": {
      "name": "python"
    }
  },
  "cells": [
    {
      "cell_type": "markdown",
      "metadata": {
        "id": "view-in-github",
        "colab_type": "text"
      },
      "source": [
        "<a href=\"https://colab.research.google.com/github/moisoto/colab/blob/main/N_Base_Real_Numbers.ipynb\" target=\"_parent\"><img src=\"https://colab.research.google.com/assets/colab-badge.svg\" alt=\"Open In Colab\"/></a>"
      ]
    },
    {
      "cell_type": "markdown",
      "source": [
        "# Writing N Base Real Numbers\n",
        "\n",
        "### Understanding Base-10 Real Numbers\n",
        "\n",
        "To understand how you can write real numbers in any base numeric format, we will first understand how decimal real numbers can be expressed as sum of fractions.\n",
        "\n",
        "Lets take for example the 6 first decimal digits of Pi:\n",
        "\n",
        "**3.1415926**\n",
        "\n",
        "\n",
        "<br>\n",
        "Since this is a 10-base number we can express this as:\n",
        "\n",
        "$\n",
        "3 + \\frac{1}{10} + \\frac{4}{100} + \\frac{1}{1000} + \\frac{5}{10000} + \\frac{9}{100000} + \\frac{2}{1000000}\n",
        "$\n",
        "\n",
        "<br>\n",
        "Looking closely as the denominator it becomes clear you could write this in a more compact form:\n",
        "\n",
        "$\n",
        "3(10^0) + \\frac{1}{10^1} + \\frac{4}{10^2} + \\frac{1}{10^3} + \\frac{5}{10^4} + \\frac{9}{10^5} + \\frac{2}{10^6}\n",
        "$\n",
        "\n",
        "<br>\n",
        "\n",
        "### Base-16 Real Numbers\n",
        "\n",
        "Now let's see the value of Pi up to the first 6 hexadecimal digits:\n",
        "\n",
        "3.243F6A\n",
        "\n",
        "We can use decimal numbers and follow the same procedure to get the value of Pi on decimal notation:\n",
        "\n",
        "$\n",
        "3(16^0) + \\frac{2}{16^1} + \\frac{4}{16^2} + \\frac{3}{16^3} + \\frac{15}{16^4} + \\frac{6}{16^5} + \\frac{10}{16^6} =\n",
        "3\\frac{1187765}{8388608} = 3.1415926...\n",
        "$\n",
        "\n",
        "As we can see the two numbers are equivalent up to the 7 decimal digit.\n",
        "\n",
        "<br>\n",
        "\n",
        "### Convert to Dec to HEX\n",
        "\n",
        "So we now found an easy way to convert a Hex Number to a decimal, even if it has fractional hexadecimal digits. \n",
        "\n",
        "However going from a Decimal number to a Hexadecimal is not that easy. So we will use a different technique\n",
        "\n",
        "First let's imagine how ca we get from 3.141592 to 3141592:\n",
        "\n",
        "$\n",
        "3.141592 * 10 * 10 * 10 * 10 * 10 * 10 * 10  = 3.141592\n",
        "$\n",
        "\n",
        "The same way we could go from 3.243F6A to 3243F6A:\n",
        "\n",
        "$\n",
        "3.243F6A_{16} * 10_{16} * 10_{16} * 10_{16} * 10_{16} * 10_{16} * 10_{16} = 3243F6A\n",
        "$\n",
        "\n",
        "***Notice how 10 here is actually the decimal number 16**\n",
        "\n",
        "So, what if we take the number 0.1415926 and start multiplying by 16 instead of 10? We would have a base 16 integer part, and a remainder fractional part?\n",
        "\n",
        "```\n",
        "                                 3 (Hex integer part)\n",
        "0.1415926 * 16 =  2.2654816  --> 2 (Hex integer part)\n",
        "0.2654816 * 16 =  4.2477056  --> 4 (Hex integer part)\n",
        "0.2477056 * 16 =  3.9632896  --> 3 (Hex integer part)\n",
        "0.9632896 * 16 = 15.4126336  --> F (Hex integer part)\n",
        "0.4126366 * 16 =  6.6021376  --> 6 (Hex integer part)\n",
        "0.6021376 * 16 =  9.6342016  --> A (Hex Integer part rounded)\n",
        "```\n",
        "\n",
        "***Notice how the last digit is A instead of 9 because we rounded 9.6 to 10 which is A on base 16**\n",
        "\n",
        "\n"
      ],
      "metadata": {
        "id": "cSC7tIjwAqg2"
      }
    }
  ]
}